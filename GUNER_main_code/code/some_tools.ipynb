{
 "cells": [
  {
   "cell_type": "code",
   "execution_count": 42,
   "metadata": {},
   "outputs": [],
   "source": [
    "with open(\"/home/jw/CCL_Guner2023/output/unlabel_data_res/pseudos+vote_5old_end.txt\",'r') as f:\n",
    "    with open(\"/home/jw/CCL_Guner2023/output/unlabel_data_res/pseudos+vote_5old+end_BIO.txt\",'w') as f1:\n",
    "        for lines in f.readlines():\n",
    "            text = lines.strip(\"\\n\")\n",
    "            words = \"\"\n",
    "            for char in text:\n",
    "                if char == '{':\n",
    "                    if len(words) > 0:\n",
    "                        for i in words:\n",
    "                            f1.write(i+\" \"+\"O\"+\"\\n\")\n",
    "                        words = \"\"\n",
    "                elif char == '}':\n",
    "                    # print(text)\n",
    "                    entity_name =  words.split(\"|\")[0]\n",
    "                    entity_type = words.split(\"|\")[1]\n",
    "                    for entity_name_index,sub_entity_name in enumerate(entity_name):\n",
    "                        if entity_name_index ==0:\n",
    "                            f1.write(sub_entity_name+\" \"+\"B-\"+entity_type+\"\\n\")\n",
    "                        else:\n",
    "                            f1.write(sub_entity_name+\" \"+\"I-\"+entity_type+\"\\n\")\n",
    "                    words = \"\"\n",
    "                else:\n",
    "                    words +=  char\n",
    "            if len(words) > 0:\n",
    "                for i in words:\n",
    "                    f1.write(i+\" \"+\"O\"+\"\\n\")\n",
    "            f1.write(\"\\n\")\n",
    "        \n"
   ]
  },
  {
   "cell_type": "code",
   "execution_count": 17,
   "metadata": {},
   "outputs": [
    {
     "data": {
      "text/plain": [
       "'帝曰：「{玄齡|PER}、如晦不以勳舊進，特其才可與治天下者，師合欲以此離間吾君臣邪？」斥嶺表。'"
      ]
     },
     "execution_count": 17,
     "metadata": {},
     "output_type": "execute_result"
    }
   ],
   "source": [
    "'''\n",
    "Descripttion: \n",
    "version: \n",
    "Author: Smallxiaoxin\n",
    "Date: 2023-04-24 11:09:48\n",
    "LastEditors: Smallxiaoxin\n",
    "LastEditTime: 2023-04-24 16:09:54\n",
    "'''\n",
    "import json\n",
    "demo = {\n",
    "        \"text\": \"帝曰：「玄齡、如晦不以勳舊進，特其才可與治天下者，師合欲以此離間吾君臣邪？」斥嶺表。\",\n",
    "        \"entity_list\": [\n",
    "            [\n",
    "                4,\n",
    "                5,\n",
    "                \"PER\"\n",
    "            ],\n",
    "            [\n",
    "                7,\n",
    "                8,\n",
    "                \"PER\"\n",
    "            ],\n",
    "            [\n",
    "                25,\n",
    "                26,\n",
    "                \"PER\"\n",
    "            ]\n",
    "        ]\n",
    "    }    \n",
    "demo[\"text\"] = demo[\"text\"].replace(demo[\"text\"][4:5+1],\"{\"+demo[\"text\"][4:5+1]+\"|\"+'PER'+\"}\")\n",
    "demo[\"text\"] "
   ]
  },
  {
   "cell_type": "code",
   "execution_count": 23,
   "metadata": {},
   "outputs": [
    {
     "data": {
      "text/plain": [
       "['即令收{護|PER}子{柱國|OFI}{譚國公|OFI}{會|PER}、{大將軍|OFI}{莒國公|OFI}{至|PER}、{崇業公|OFI}{靜|PER}、{正平公|OFI}{乾嘉|PER}，']"
      ]
     },
     "execution_count": 23,
     "metadata": {},
     "output_type": "execute_result"
    }
   ],
   "source": [
    "x = \"即令收{護|PER}子{柱國|OFI}{譚國公|OFI}{會|PER}、{大將軍|OFI}{莒國公|OFI}{至|PER}、{崇業公|OFI}{靜|PER}、{正平公|OFI}{乾嘉|PER}，\"\n",
    "x = x.split()\n",
    "x\n"
   ]
  },
  {
   "cell_type": "code",
   "execution_count": 25,
   "metadata": {},
   "outputs": [
    {
     "data": {
      "text/plain": [
       "'即令收{護|PER}子{柱國|OFI}{譚國公|OFI}{會|PER}、{大將軍|OFI}{莒國公|OFI}{至|PER}、{崇業公|OFI}{靜|PER}、{正平公|OFI}{乾嘉|PER}'"
      ]
     },
     "execution_count": 25,
     "metadata": {},
     "output_type": "execute_result"
    }
   ],
   "source": [
    "x[0][:-1]"
   ]
  },
  {
   "cell_type": "code",
   "execution_count": 41,
   "metadata": {},
   "outputs": [
    {
     "data": {
      "text/plain": [
       "['吃', '巧', '克', '力', '蛋', '糕']"
      ]
     },
     "execution_count": 41,
     "metadata": {},
     "output_type": "execute_result"
    }
   ],
   "source": [
    "text = \"吃巧克力蛋糕\"\n",
    "char_words = [char for char in text]\n",
    "char_words"
   ]
  },
  {
   "cell_type": "code",
   "execution_count": 42,
   "metadata": {},
   "outputs": [
    {
     "data": {
      "text/plain": [
       "['吃巧', '巧克', '克力', '力蛋', '蛋糕']"
      ]
     },
     "execution_count": 42,
     "metadata": {},
     "output_type": "execute_result"
    }
   ],
   "source": [
    "bigram = []\n",
    "for i in range(len(char_words)-1):\n",
    "    bigram.append(char_words[i] + char_words[i+1])\n",
    "bigram"
   ]
  },
  {
   "cell_type": "code",
   "execution_count": 43,
   "metadata": {},
   "outputs": [],
   "source": [
    "for i in range(len(bigram),len(char_words)):\n",
    "    bigram.append('<pad>')"
   ]
  },
  {
   "cell_type": "code",
   "execution_count": 44,
   "metadata": {},
   "outputs": [
    {
     "data": {
      "text/plain": [
       "['吃巧', '巧克', '克力', '力蛋', '蛋糕', '<pad>']"
      ]
     },
     "execution_count": 44,
     "metadata": {},
     "output_type": "execute_result"
    }
   ],
   "source": [
    "bigram"
   ]
  },
  {
   "cell_type": "code",
   "execution_count": 21,
   "metadata": {},
   "outputs": [],
   "source": [
    "x1 = ['咳', '嗽', ',', '气', '喘', ',', '情', '绪', '激', '动', '时', ',', '咯', '痰', ',', '气', '嘶', ',', '头', '痛', ',', '项', '枕', ',', '视', '物', '不', '清', ',', '舌', '紫', '暗', ',', '脉', '弦', '大', 'B', 'P', '1', '7', '6', ',', '8', '9', ',', '8', '0', '高', '血', '压', ',', '1', '0', '年', '多', ',', '过', '敏', '物', '质', ',', '动', '物', '毛', '和', '粉', '尘']\n",
    "x2 = ['咳嗽', '嗽,', ',气', '气喘', '喘,', ',情', '情绪', '绪激', '激动', '动时', '时,', ',咯', '咯痰', '痰,', ',气', '气嘶', '嘶,', ',头', '头痛', '痛,', ',项', '项枕', '枕,', ',视', '视物', '物不', '不清', '清,', ',舌', '舌紫', '紫暗', '暗,', ',脉', '脉弦', '弦大', '大B', 'BP', 'P1', '17', '76', '6,', ',8', '89', '9,', ',8', '80', '0高', '高血', '血压', '压,', ',1', '10', '0年', '年多', '多,', ',过', '过敏', '敏物', '物质', '质,', ',动', '动物', '物毛', '毛和', '和粉', '粉尘']"
   ]
  },
  {
   "cell_type": "code",
   "execution_count": 22,
   "metadata": {},
   "outputs": [
    {
     "data": {
      "text/plain": [
       "(67, 66)"
      ]
     },
     "execution_count": 22,
     "metadata": {},
     "output_type": "execute_result"
    }
   ],
   "source": [
    "len(x1),len(x2)"
   ]
  },
  {
   "cell_type": "code",
   "execution_count": 25,
   "metadata": {},
   "outputs": [],
   "source": [
    "if len(x2) < len(x1):\n",
    "    for i in range(len(x2),len(x1)):\n",
    "        x2.append('<pad>')"
   ]
  },
  {
   "cell_type": "code",
   "execution_count": 3,
   "metadata": {},
   "outputs": [
    {
     "data": {
      "text/plain": [
       "3"
      ]
     },
     "execution_count": 3,
     "metadata": {},
     "output_type": "execute_result"
    }
   ],
   "source": [
    "import json\n",
    "ent2id_path = '/home/jw/CCL_Guner2023/data/train_json/ent2id.json'\n",
    "\n",
    "ent2id = json.load(open(ent2id_path, encoding=\"utf-8\"))\n",
    "ent_type_size = len(ent2id)\n",
    "ent_type_size"
   ]
  },
  {
   "cell_type": "code",
   "execution_count": 47,
   "metadata": {},
   "outputs": [
    {
     "name": "stdout",
     "output_type": "stream",
     "text": [
      "丞相\n",
      "伯顏\n",
      "孫虎臣\n",
      "張世傑\n",
      "信武將軍\n"
     ]
    }
   ],
   "source": [
    "text = '十二年冬，丞相伯顏命以所部兵取寧國，下令無虜掠，既至城下，喻以禍福，寧國開門迎降，秋毫無犯。復令兵從至焦山，與宋將孫虎臣、張世傑轉戰百餘里，殺獲甚多，以功賜金虎符，進信武將軍，鎮高郵。'\n",
    "entities = [{'start_idx': 5, 'end_idx': 6, 'type': 'OFI', 'score': 18.147081}, {'start_idx': 7, 'end_idx': 8, 'type': 'PER', 'score': 18.310528}, {'start_idx': 57, 'end_idx': 59, 'type': 'PER', 'score': 17.386562}, {'start_idx': 61, 'end_idx': 63, 'type': 'PER', 'score': 15.528101}, {'start_idx': 83, 'end_idx': 86, 'type': 'OFI', 'score': 14.701119}]\n",
    "for i in entities:\n",
    "    print(text[i['start_idx']:i['end_idx']+1])"
   ]
  },
  {
   "cell_type": "code",
   "execution_count": 54,
   "metadata": {},
   "outputs": [
    {
     "name": "stdout",
     "output_type": "stream",
     "text": [
      "十二年冬，{丞相|OFI}十二年冬，丞相{伯顏|PER}十二年冬，丞相伯顏命以所部兵取寧國，下令無虜掠，既至城下，喻以禍福，寧國開門迎降，秋毫無犯。復令兵從至焦山，與宋將{孫虎臣|PER}十二年冬，丞相伯顏命以所部兵取寧國，下令無虜掠，既至城下，喻以禍福，寧國開門迎降，秋毫無犯。復令兵從至焦山，與宋將孫虎臣、{張世傑|PER}十二年冬，丞相伯顏命以所部兵取寧國，下令無虜掠，既至城下，喻以禍福，寧國開門迎降，秋毫無犯。復令兵從至焦山，與宋將孫虎臣、張世傑轉戰百餘里，殺獲甚多，以功賜金虎符，進{信武將軍|OFI}\n"
     ]
    }
   ],
   "source": [
    "text = '十二年冬，丞相伯顏命以所部兵取寧國，下令無虜掠，既至城下，喻以禍福，寧國開門迎降，秋毫無犯。復令兵從至焦山，與宋將孫虎臣、張世傑轉戰百餘里，殺獲甚多，以功賜金虎符，進信武將軍，鎮高郵。'\n",
    "entities = [{'start_idx': 5, 'end_idx': 6, 'type': 'OFI', 'score': 18.147081}, {'start_idx': 7, 'end_idx': 8, 'type': 'PER', 'score': 18.310528}, {'start_idx': 57, 'end_idx': 59, 'type': 'PER', 'score': 17.386562}, {'start_idx': 61, 'end_idx': 63, 'type': 'PER', 'score': 15.528101}, {'start_idx': 83, 'end_idx': 86, 'type': 'OFI', 'score': 14.701119}]\n",
    "temp_str = \"\"\n",
    "for sub_entities_index,sub_entities in enumerate(entities):\n",
    "    start_idx = sub_entities['start_idx']\n",
    "    end_idx = sub_entities['end_idx']\n",
    "    entity_type = sub_entities['type']\n",
    "    for sub_text_indx,sub_text in enumerate(text):\n",
    "        if start_idx != sub_text_indx:\n",
    "            temp_str += sub_text\n",
    "        else:\n",
    "           temp_str += \"{\"+text[start_idx:end_idx+1]+\"|\"+entity_type+\"}\"\n",
    "           break\n",
    "print(temp_str)\n"
   ]
  },
  {
   "cell_type": "code",
   "execution_count": 59,
   "metadata": {},
   "outputs": [],
   "source": [
    "\n",
    "text = '十二年冬，丞相伯顏命以所部兵取寧國，下令無虜掠，既至城下，喻以禍福，寧國開門迎降，秋毫無犯。復令兵從至焦山，與宋將孫虎臣、張世傑轉戰百餘里，殺獲甚多，以功賜金虎符，進信武將軍，鎮高郵。'\n",
    "entities = [{'start_idx': 5, 'end_idx': 6, 'type': 'OFI', 'score': 18.147081}, {'start_idx': 7, 'end_idx': 8, 'type': 'PER', 'score': 18.310528}, {'start_idx': 57, 'end_idx': 59, 'type': 'PER', 'score': 17.386562}, {'start_idx': 61, 'end_idx': 63, 'type': 'PER', 'score': 15.528101}, {'start_idx': 83, 'end_idx': 86, 'type': 'OFI', 'score': 14.701119}]\n",
    "temp_str = \"\"\n",
    "i = 0\n",
    "for sub_entities_index,sub_entities in enumerate(entities):\n",
    "    start_idx = sub_entities['start_idx']\n",
    "    end_idx = sub_entities['end_idx']\n",
    "    entity_type = sub_entities['type']\n",
    "    for sub_text_indx in range(i,len(text)):\n",
    "        if start_idx != sub_text_indx:\n",
    "            temp_str += text[sub_text_indx]\n",
    "        elif sub_entities_index == len(entities)-1:\n",
    "            temp_str += \"{\"+text[start_idx:end_idx+1]+\"|\"+entity_type+\"}\"+text[end_idx+1:]\n",
    "            i = end_idx+1\n",
    "            break          \n",
    "        else:\n",
    "            temp_str += \"{\"+text[start_idx:end_idx+1]+\"|\"+entity_type+\"}\"\n",
    "            i = end_idx+1\n",
    "            break\n",
    "\n"
   ]
  },
  {
   "cell_type": "code",
   "execution_count": 60,
   "metadata": {},
   "outputs": [
    {
     "data": {
      "text/plain": [
       "'十二年冬，{丞相|OFI}{伯顏|PER}命以所部兵取寧國，下令無虜掠，既至城下，喻以禍福，寧國開門迎降，秋毫無犯。復令兵從至焦山，與宋將{孫虎臣|PER}、{張世傑|PER}轉戰百餘里，殺獲甚多，以功賜金虎符，進{信武將軍|OFI}，鎮高郵。'"
      ]
     },
     "execution_count": 60,
     "metadata": {},
     "output_type": "execute_result"
    }
   ],
   "source": [
    "temp_str"
   ]
  },
  {
   "cell_type": "code",
   "execution_count": 80,
   "metadata": {},
   "outputs": [
    {
     "name": "stderr",
     "output_type": "stream",
     "text": [
      "Processing: 5it [00:00, 17909.07it/s]"
     ]
    },
    {
     "name": "stdout",
     "output_type": "stream",
     "text": [
      "/home/jw/CCL_Guner2023/output/5_fold/eval_best_fold/1model.pt\n",
      "0\n",
      "/home/jw/CCL_Guner2023/output/5_fold/eval_best_fold/2model.pt\n",
      "1\n",
      "/home/jw/CCL_Guner2023/output/5_fold/eval_best_fold/3model.pt\n",
      "2\n",
      "/home/jw/CCL_Guner2023/output/5_fold/eval_best_fold/4model.pt\n",
      "3\n",
      "/home/jw/CCL_Guner2023/output/5_fold/eval_best_fold/5model.pt\n",
      "4\n"
     ]
    },
    {
     "name": "stderr",
     "output_type": "stream",
     "text": [
      "\n"
     ]
    }
   ],
   "source": [
    "import os \n",
    "from tqdm import tqdm\n",
    "for root, dirs, files in os.walk('/home/jw/CCL_Guner2023/output/5_fold/eval_best_fold'):\n",
    "    files = sorted(files,key=lambda x: x[0])\n",
    "    for files_index,files_ in tqdm( enumerate(files), desc='Processing'):\n",
    "        print(os.path.join(root,files_))\n",
    "        print(files_index)"
   ]
  },
  {
   "cell_type": "code",
   "execution_count": 109,
   "metadata": {},
   "outputs": [],
   "source": [
    "'''\n",
    "Descripttion: \n",
    "version: \n",
    "Author: Smallxiaoxin\n",
    "Date: 2023-04-24 11:09:48\n",
    "LastEditors: Smallxiaoxin\n",
    "LastEditTime: 2023-05-08 15:59:51\n",
    "'''\n",
    "import os,pipetool,json\n",
    "from collections import Counter\n",
    "\n",
    "def load_data(filename):\n",
    "    \"\"\"加载数据\n",
    "    \"\"\" \n",
    "    data_list = []\n",
    "    for d in json.load(open(filename, encoding='utf-8')):\n",
    "        data_list.append(d)\n",
    "    return data_list\n",
    "\n",
    "def do_merge(mn=0):\n",
    "    output = '/home/jw/CCL_Guner2023/output/5_fold/output_fold'\n",
    "    datas = []\n",
    "    for file_name in os.listdir(output):\n",
    "        jsons = load_data(os.path.join(output,file_name))\n",
    "        datas.append(jsons)\n",
    "    \n",
    "    with open(f'{output}/merge_.json','w') as f:\n",
    "        #zip(*)将所有输入对象的行转为列\n",
    "        for rows in map(list,zip(*datas)):\n",
    "            spoes = []\n",
    "            dd = rows[0]\n",
    "            for row in rows: \n",
    "                spo_list = row['entity_list']\n",
    "                for spo in spo_list: \n",
    "                    spo_s = json.dumps(spo, ensure_ascii=False)\n",
    "                    spoes.append(spo_s)\n",
    "            if spoes:\n",
    "                count = Counter(spoes) \n",
    "                spo_list = [json.loads(spo_s) for spo_s,c in count.items() if c>=mn] \n",
    "                dd['entity_list'] = sorted(spo_list,key = lambda x: x[0])\n",
    "            \n",
    "            f.write(json.dumps(dd,ensure_ascii=False)+\"\\n\")\n",
    "        \n",
    "do_merge(2)\n"
   ]
  },
  {
   "cell_type": "code",
   "execution_count": null,
   "metadata": {},
   "outputs": [],
   "source": [
    "with open(\"/home/jw/CCL_Guner2023/output/5_fold/output_fold/merge_.json\",'r') as f:\n",
    "    for lines in f.readlines():\n",
    "        line = json.loads(lines)\n",
    "        text = line['text']\n",
    "        entities = line['entity_list']\n",
    "        temp_str = \"\"\n",
    "        i = 0\n",
    "        for sub_entities_index,sub_entities in enumerate(entities):\n",
    "            start_idx = sub_entities[0]\n",
    "            end_idx = sub_entities[1]\n",
    "            entity_type = sub_entities[2]\n",
    "            for sub_text_indx in range(i,len(text)):\n",
    "                if start_idx != sub_text_indx:\n",
    "                    temp_str += text[sub_text_indx]\n",
    "                elif sub_entities_index == len(entities)-1:\n",
    "                    temp_str += \"{\"+text[start_idx:end_idx+1]+\"|\"+entity_type+\"}\"+text[end_idx+1:]\n",
    "                    i = end_idx+1\n",
    "                    break          \n",
    "                else:\n",
    "                    temp_str += \"{\"+text[start_idx:end_idx+1]+\"|\"+entity_type+\"}\"\n",
    "                    i = end_idx+1\n",
    "                    break"
   ]
  },
  {
   "cell_type": "code",
   "execution_count": 118,
   "metadata": {},
   "outputs": [],
   "source": [
    "demo = {\"text\": \"俄檢校吏部尚書，參豫朝政。所薦贏四十人，後皆知名。嘗白郅懷道可用，帝問狀。淹曰：「懷道及隋時位吏部主事，方煬帝幸江都，羣臣迎阿，獨懷道執不可。」帝曰：「卿時何云？」\", \"entity_list\": [[1, 6, \"OFI\"], [3, 6, \"OFI\"], [27, 29, \"PER\"], [33, 33, \"OFI\"], [37, 37, \"PER\"], [41, 42, \"PER\"], [47, 50, \"OFI\"], [53, 54, \"PER\"], [65, 66, \"PER\"]]}\n",
    "text = demo['text']\n",
    "entities = demo['entity_list'] \n",
    "temp_str = \"\"\n",
    "i = 0\n",
    "for sub_entities_index,sub_entities in enumerate(entities):\n",
    "    start_idx = sub_entities[0]\n",
    "    end_idx = sub_entities[1]\n",
    "    entity_type = sub_entities[2]\n",
    "    if i>start_idx:\n",
    "        continue\n",
    "    for sub_text_indx in range(i,len(text)):\n",
    "        if start_idx != sub_text_indx:\n",
    "            temp_str += text[sub_text_indx]\n",
    "        elif sub_entities_index == len(entities)-1:\n",
    "            temp_str += \"{\"+text[start_idx:end_idx+1]+\"|\"+entity_type+\"}\"+text[end_idx+1:]\n",
    "            i = end_idx+1\n",
    "            break          \n",
    "        else:\n",
    "            temp_str += \"{\"+text[start_idx:end_idx+1]+\"|\"+entity_type+\"}\"\n",
    "            i = end_idx+1\n",
    "            break"
   ]
  },
  {
   "cell_type": "code",
   "execution_count": 2,
   "metadata": {},
   "outputs": [
    {
     "name": "stdout",
     "output_type": "stream",
     "text": [
      "{〈王弃，去亠〉|PER}\n",
      "{〈王弃，去亠〉|PER}\n",
      "{[高二自，去口]|PER}\n",
      "{[高二自，去口]|PER}\n",
      "{[高二自，去口]|PER}\n",
      "{宋都〈得，彳改角〉|PER}\n",
      "{宋都〈得，彳改角〉|PER}\n",
      "{宋都〈得，彳改角〉|PER}\n",
      "{〈撤，扌改日〉|PER}\n",
      "{速不〈得，彳改角〉|PER}\n",
      "{〈吳，口改日〉勃極烈|OFI}\n"
     ]
    }
   ],
   "source": [
    "import re\n",
    "pu_list = ['，' ,'<','[',']','。' ,',','.']\n",
    "with open('/home/jw/CCL_Guner2023/data/train_data/GuNER2023_train.txt','r') as f:\n",
    "        for lines in f.readlines():\n",
    "            line = lines.strip(\"\\n\")\n",
    "            matches = re.findall(r\"\\{[^{}]*\\}\", line)\n",
    "            temp_list = []\n",
    "            if matches:\n",
    "                for match in matches:\n",
    "                    for char in match:\n",
    "                        if char in pu_list:\n",
    "                            print(match)"
   ]
  },
  {
   "cell_type": "code",
   "execution_count": 37,
   "metadata": {},
   "outputs": [],
   "source": [
    "list_94_523 = []\n",
    "list_94_529 = []\n",
    "list_94_581 = []\n",
    "with open(\"/home/jw/CCL_Guner2023/output/pre_model_200/fgm_all+swa+5fold/submissions/94.737_vote_5old_end.txt\",'r') as f:\n",
    "    for lines in f.readlines():\n",
    "        line = lines.strip(\"\\n\")\n",
    "        list_94_523.append(line)\n",
    "with open(\"/home/jw/CCL_Guner2023/output/pre_model_200/fgm_all+swa+5fold/submissions/vote_5old.txt\",'r') as f:\n",
    "    for lines in f.readlines():\n",
    "        line = lines.strip(\"\\n\")\n",
    "        list_94_529.append(line)\n",
    "# with open(\"/home/jw/CCL_Guner2023/output/res_94/94.581_fgm_all+swa6-40+pre_model_200_end.txt\",'r') as f:\n",
    "#     for lines in f.readlines():\n",
    "#         line = lines.strip(\"\\n\")\n",
    "#         list_94_581.append(line)"
   ]
  },
  {
   "cell_type": "code",
   "execution_count": 38,
   "metadata": {},
   "outputs": [
    {
     "name": "stdout",
     "output_type": "stream",
     "text": [
      "夫制軍馭將，所貴見情，離合疾徐，各有宜適。當離者合之則召亂，當合者離之則寡功，當疾而徐則失機，當徐而疾則漏策。得其要，契其時，然後舉無敗謀，措無危勢。而今者屯兵而不肯為用，聚將而罔能恊心，自為鯨鯢，變在朝夕。留之不足以相制，徒長厲階；\n",
      "夫制軍馭將，所貴見{情，離合|PER}疾徐，各有宜適。當離者合之則召亂，當合者離之則寡功，當疾而徐則失機，當徐而疾則漏策。得其要，契其時，然後舉無敗謀，措無危勢。而今者屯兵而不肯為用，聚將而罔能恊心，自為鯨鯢，變在朝夕。留之不足以相制，徒長厲階；\n",
      "天之授者，有分事，無全功；地之產者，有物宜，無兼利。是以五方之俗，長短各殊。長者不可踰，短者不可企，勉所短而敵其所長必殆，用所長而乘其短必安。強者乃以水草為邑居，以射獵供飲茹，多馬而尤便馳突，輕生而不耻敗亡，此戎狄之所長也。戎狄之所長，乃中國之所短；\n",
      "天之授者，有分事，無全功；地之產者，有物宜，無兼利。是以五方之俗，長短各殊。長者不可踰，短者不可企，勉所短而敵其所長必殆，用所長而乘其短必安。強者乃以水草為邑居，以射獵供飲茹，多馬而尤便{馳突，|PER}輕生而不耻敗亡，此戎狄之所長也。戎狄之所長，乃中國之所短；\n",
      "凶門柏裝，不出禮典，起自末代，積習生常，遂成舊俗，爰自天子達于庶人。誠行之有由，卒革必駭；然苟無關於情，而有愆禮度，存之未有所明，去之未有所失，固當式遵先典，釐革後謬，況復兼以游費，實為人患者乎。\n",
      "凶門柏裝，不出禮典，起自末代，積習生常{，遂成舊|OFI}俗，爰自天子達于庶人。誠行之有由，卒革必駭；然苟無關於情，而有愆禮度，存之未有所明，去之未有所失，固當式遵先典，釐革後謬，況復兼以游費，實為人患者乎。\n",
      "是以古之遣將帥者，君親推轂而命之曰：「自閫以外，將軍裁之。」又賜鈇鉞，示令專斷。故軍容不入國，國容不入軍，將在軍，君命有所不受。誠謂機宜不可以遠決，號令不可以兩從，未有委任不專，而望其克敵成功者也。\n",
      "是以古之遣將帥者，君親推轂而命之曰：「自閫以外，將軍裁之。」又賜鈇鉞，示令專斷。故軍容不入國，國容不入軍{，將|PER}在軍，君命有所不受。誠謂機宜不可以遠決，號令不可以兩從，未有委任不專，而望其克敵成功者也。\n",
      "旣是無良之類，且加懷土之情，思亂幸災，又甚戍卒。適足煩於防衛，諒無望於功庸，雖前代時或行之，固非良算之可遵者也。復有擁旄之帥，身不臨邊，但分偏師，俾守疆埸。大抵軍中壯銳，元戎例選自隨，委其疲羸，乃配諸鎮。\n",
      "旣是無良之類{，且|PER}加懷土之情，思亂幸災，又甚戍卒。適足煩於防衛，諒無望於功庸，雖前代時或行之，固非良算之可遵者也。復有擁旄之帥，身不臨邊，但分偏師，俾守疆埸。大抵軍中壯銳，元戎例選自隨，委其疲羸，乃配諸鎮。\n",
      "此儔類所以忿恨，忠良所以憂嗟，疲人所以流亡，經費所以褊匱。夫事業未異，而給養有殊，人情之所不能甘也，況乎矯佞行而稟賜厚，績藝劣而衣食優，苟未忘懷，能無慍怒。\n",
      "此儔類所以忿恨，忠良所以憂{嗟，疲|OFI}人所以流亡，經費所以褊匱。夫事業未異，而給養有殊，人情之所不能甘也，況乎矯佞行而稟賜厚，績藝劣而衣食優，苟未忘懷，能無慍怒。\n"
     ]
    }
   ],
   "source": [
    "for i_index,i in enumerate(list_94_523):\n",
    "    if i == list_94_529[i_index] :\n",
    "        continue\n",
    "    else:\n",
    "        print(i)\n",
    "        print(list_94_529[i_index])\n",
    "        # print(list_94_581[i_index])"
   ]
  }
 ],
 "metadata": {
  "kernelspec": {
   "display_name": "lbbc",
   "language": "python",
   "name": "python3"
  },
  "language_info": {
   "codemirror_mode": {
    "name": "ipython",
    "version": 3
   },
   "file_extension": ".py",
   "mimetype": "text/x-python",
   "name": "python",
   "nbconvert_exporter": "python",
   "pygments_lexer": "ipython3",
   "version": "3.7.12"
  },
  "orig_nbformat": 4
 },
 "nbformat": 4,
 "nbformat_minor": 2
}
